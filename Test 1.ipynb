{
 "cells": [
  {
   "cell_type": "code",
   "execution_count": 1,
   "id": "a44f5d4e",
   "metadata": {},
   "outputs": [],
   "source": [
    "a= 210 "
   ]
  },
  {
   "cell_type": "code",
   "execution_count": 2,
   "id": "d8489d34",
   "metadata": {},
   "outputs": [
    {
     "data": {
      "text/plain": [
       "210"
      ]
     },
     "execution_count": 2,
     "metadata": {},
     "output_type": "execute_result"
    }
   ],
   "source": [
    "a"
   ]
  },
  {
   "cell_type": "code",
   "execution_count": 3,
   "id": "1c85ca1e",
   "metadata": {},
   "outputs": [],
   "source": [
    "deepe=373"
   ]
  },
  {
   "cell_type": "code",
   "execution_count": 4,
   "id": "0fa16e28",
   "metadata": {},
   "outputs": [
    {
     "data": {
      "text/plain": [
       "373"
      ]
     },
     "execution_count": 4,
     "metadata": {},
     "output_type": "execute_result"
    }
   ],
   "source": [
    "deepe"
   ]
  },
  {
   "cell_type": "code",
   "execution_count": 9,
   "id": "fddc7d4c",
   "metadata": {},
   "outputs": [
    {
     "data": {
      "text/plain": [
       "int"
      ]
     },
     "execution_count": 9,
     "metadata": {},
     "output_type": "execute_result"
    }
   ],
   "source": [
    "type(a)"
   ]
  },
  {
   "cell_type": "code",
   "execution_count": 10,
   "id": "e33b499f",
   "metadata": {},
   "outputs": [],
   "source": [
    "b= 333.3"
   ]
  },
  {
   "cell_type": "code",
   "execution_count": 11,
   "id": "c4406622",
   "metadata": {},
   "outputs": [
    {
     "data": {
      "text/plain": [
       "float"
      ]
     },
     "execution_count": 11,
     "metadata": {},
     "output_type": "execute_result"
    }
   ],
   "source": [
    "type(b)"
   ]
  },
  {
   "cell_type": "code",
   "execution_count": 12,
   "id": "99ba3883",
   "metadata": {},
   "outputs": [],
   "source": [
    "c=\"this is my first class in pyton  13 may 2007\""
   ]
  },
  {
   "cell_type": "code",
   "execution_count": 13,
   "id": "595b7e23",
   "metadata": {},
   "outputs": [
    {
     "data": {
      "text/plain": [
       "str"
      ]
     },
     "execution_count": 13,
     "metadata": {},
     "output_type": "execute_result"
    }
   ],
   "source": [
    "type(c)"
   ]
  },
  {
   "cell_type": "code",
   "execution_count": 15,
   "id": "c7f68701",
   "metadata": {},
   "outputs": [],
   "source": [
    "acca= 2+3j"
   ]
  },
  {
   "cell_type": "code",
   "execution_count": 26,
   "id": "b0a5cc4d",
   "metadata": {},
   "outputs": [
    {
     "data": {
      "text/plain": [
       "complex"
      ]
     },
     "execution_count": 26,
     "metadata": {},
     "output_type": "execute_result"
    }
   ],
   "source": [
    "type(acca)"
   ]
  },
  {
   "cell_type": "code",
   "execution_count": 17,
   "id": "a726ce3d",
   "metadata": {},
   "outputs": [],
   "source": [
    "fs=True"
   ]
  },
  {
   "cell_type": "code",
   "execution_count": 18,
   "id": "08b9c342",
   "metadata": {},
   "outputs": [
    {
     "data": {
      "text/plain": [
       "bool"
      ]
     },
     "execution_count": 18,
     "metadata": {},
     "output_type": "execute_result"
    }
   ],
   "source": [
    "type(fs)"
   ]
  },
  {
   "cell_type": "code",
   "execution_count": 19,
   "id": "f5c26958",
   "metadata": {},
   "outputs": [],
   "source": [
    "es=False"
   ]
  },
  {
   "cell_type": "code",
   "execution_count": 20,
   "id": "1b8866db",
   "metadata": {},
   "outputs": [
    {
     "data": {
      "text/plain": [
       "bool"
      ]
     },
     "execution_count": 20,
     "metadata": {},
     "output_type": "execute_result"
    }
   ],
   "source": [
    "type(es)"
   ]
  },
  {
   "cell_type": "code",
   "execution_count": 23,
   "id": "76b843d9",
   "metadata": {},
   "outputs": [
    {
     "data": {
      "text/plain": [
       "1"
      ]
     },
     "execution_count": 23,
     "metadata": {},
     "output_type": "execute_result"
    }
   ],
   "source": [
    "True-False #\"true =1 ,false =0\""
   ]
  },
  {
   "cell_type": "code",
   "execution_count": 24,
   "id": "3f200f19",
   "metadata": {},
   "outputs": [
    {
     "ename": "ZeroDivisionError",
     "evalue": "division by zero",
     "output_type": "error",
     "traceback": [
      "\u001b[1;31m---------------------------------------------------------------------------\u001b[0m",
      "\u001b[1;31mZeroDivisionError\u001b[0m                         Traceback (most recent call last)",
      "Input \u001b[1;32mIn [24]\u001b[0m, in \u001b[0;36m<cell line: 1>\u001b[1;34m()\u001b[0m\n\u001b[1;32m----> 1\u001b[0m \u001b[38;5;28;43;01mTrue\u001b[39;49;00m\u001b[38;5;241;43m/\u001b[39;49m\u001b[38;5;28;43;01mFalse\u001b[39;49;00m\n",
      "\u001b[1;31mZeroDivisionError\u001b[0m: division by zero"
     ]
    }
   ],
   "source": [
    "True/False"
   ]
  },
  {
   "cell_type": "code",
   "execution_count": 25,
   "id": "237dd120",
   "metadata": {},
   "outputs": [
    {
     "data": {
      "text/plain": [
       "0"
      ]
     },
     "execution_count": 25,
     "metadata": {},
     "output_type": "execute_result"
    }
   ],
   "source": [
    "True*False"
   ]
  },
  {
   "cell_type": "code",
   "execution_count": 27,
   "id": "2db560fa",
   "metadata": {},
   "outputs": [],
   "source": [
    "n=5+5j"
   ]
  },
  {
   "cell_type": "code",
   "execution_count": 28,
   "id": "2cf4c5a4",
   "metadata": {},
   "outputs": [
    {
     "data": {
      "text/plain": [
       "complex"
      ]
     },
     "execution_count": 28,
     "metadata": {},
     "output_type": "execute_result"
    }
   ],
   "source": [
    "type(n)"
   ]
  },
  {
   "cell_type": "code",
   "execution_count": 29,
   "id": "19d6d7d5",
   "metadata": {},
   "outputs": [
    {
     "data": {
      "text/plain": [
       "(10+10j)"
      ]
     },
     "execution_count": 29,
     "metadata": {},
     "output_type": "execute_result"
    }
   ],
   "source": [
    "n+n"
   ]
  },
  {
   "cell_type": "code",
   "execution_count": 31,
   "id": "a0aced59",
   "metadata": {},
   "outputs": [
    {
     "data": {
      "text/plain": [
       "5.0"
      ]
     },
     "execution_count": 31,
     "metadata": {},
     "output_type": "execute_result"
    }
   ],
   "source": [
    "n.real"
   ]
  },
  {
   "cell_type": "code",
   "execution_count": 32,
   "id": "5b1f15a3",
   "metadata": {},
   "outputs": [
    {
     "data": {
      "text/plain": [
       "<function complex.conjugate>"
      ]
     },
     "execution_count": 32,
     "metadata": {},
     "output_type": "execute_result"
    }
   ],
   "source": [
    "n.conjugate #pls click on the tab to open options"
   ]
  },
  {
   "cell_type": "code",
   "execution_count": 35,
   "id": "e27bd4c3",
   "metadata": {},
   "outputs": [],
   "source": [
    "#list"
   ]
  },
  {
   "cell_type": "code",
   "execution_count": 38,
   "id": "95077f61",
   "metadata": {},
   "outputs": [],
   "source": [
    "l=[346,877,889,887,\"deepu\",5+7j,5543.76]"
   ]
  },
  {
   "cell_type": "code",
   "execution_count": 39,
   "id": "f61d8393",
   "metadata": {},
   "outputs": [
    {
     "data": {
      "text/plain": [
       "list"
      ]
     },
     "execution_count": 39,
     "metadata": {},
     "output_type": "execute_result"
    }
   ],
   "source": [
    "type(l)"
   ]
  },
  {
   "cell_type": "code",
   "execution_count": 40,
   "id": "01c79ae4",
   "metadata": {},
   "outputs": [],
   "source": [
    "l1=[\"hggyh\",55665,65.7765]"
   ]
  },
  {
   "cell_type": "code",
   "execution_count": 41,
   "id": "6fa08b23",
   "metadata": {},
   "outputs": [
    {
     "data": {
      "text/plain": [
       "877"
      ]
     },
     "execution_count": 41,
     "metadata": {},
     "output_type": "execute_result"
    }
   ],
   "source": [
    "l[1]"
   ]
  },
  {
   "cell_type": "code",
   "execution_count": 45,
   "id": "60e54623",
   "metadata": {},
   "outputs": [
    {
     "data": {
      "text/plain": [
       "346"
      ]
     },
     "execution_count": 45,
     "metadata": {},
     "output_type": "execute_result"
    }
   ],
   "source": [
    "l[0]"
   ]
  },
  {
   "cell_type": "code",
   "execution_count": 56,
   "id": "bf09f605",
   "metadata": {},
   "outputs": [],
   "source": [
    "t=(33353,888,766,99,\"fgfs\")"
   ]
  },
  {
   "cell_type": "code",
   "execution_count": 44,
   "id": "4c812b91",
   "metadata": {},
   "outputs": [
    {
     "data": {
      "text/plain": [
       "tuple"
      ]
     },
     "execution_count": 44,
     "metadata": {},
     "output_type": "execute_result"
    }
   ],
   "source": [
    "type(t)"
   ]
  },
  {
   "cell_type": "code",
   "execution_count": 46,
   "id": "6b5ddfd3",
   "metadata": {},
   "outputs": [],
   "source": [
    "#dict"
   ]
  },
  {
   "cell_type": "code",
   "execution_count": 49,
   "id": "58cb740f",
   "metadata": {},
   "outputs": [],
   "source": [
    "d={\"fd\":\"deepes\",\"gf\":\"fdysgs\",\"fs\":5353}"
   ]
  },
  {
   "cell_type": "code",
   "execution_count": 50,
   "id": "29193f42",
   "metadata": {},
   "outputs": [
    {
     "data": {
      "text/plain": [
       "dict"
      ]
     },
     "execution_count": 50,
     "metadata": {},
     "output_type": "execute_result"
    }
   ],
   "source": [
    "type(d)"
   ]
  },
  {
   "cell_type": "code",
   "execution_count": 51,
   "id": "220004ec",
   "metadata": {},
   "outputs": [],
   "source": [
    "d2={\"gf\":\"iehuv\",\"shiva\":36363/100000}"
   ]
  },
  {
   "cell_type": "code",
   "execution_count": 58,
   "id": "52da4095",
   "metadata": {},
   "outputs": [],
   "source": [
    "t2=(373,3737,3393,\"ecamc\")"
   ]
  },
  {
   "cell_type": "code",
   "execution_count": 61,
   "id": "46f162dc",
   "metadata": {},
   "outputs": [],
   "source": [
    "d={565}"
   ]
  },
  {
   "cell_type": "code",
   "execution_count": 62,
   "id": "3c48fd8e",
   "metadata": {},
   "outputs": [
    {
     "data": {
      "text/plain": [
       "set"
      ]
     },
     "execution_count": 62,
     "metadata": {},
     "output_type": "execute_result"
    }
   ],
   "source": [
    "type(d)"
   ]
  },
  {
   "cell_type": "code",
   "execution_count": 65,
   "id": "bf99fdfc",
   "metadata": {},
   "outputs": [
    {
     "name": "stdout",
     "output_type": "stream",
     "text": [
      "['hggyh', 55665, 65.7765]\n"
     ]
    }
   ],
   "source": [
    "print(l1)"
   ]
  },
  {
   "cell_type": "code",
   "execution_count": null,
   "id": "2466d053",
   "metadata": {},
   "outputs": [],
   "source": []
  }
 ],
 "metadata": {
  "kernelspec": {
   "display_name": "Python 3 (ipykernel)",
   "language": "python",
   "name": "python3"
  },
  "language_info": {
   "codemirror_mode": {
    "name": "ipython",
    "version": 3
   },
   "file_extension": ".py",
   "mimetype": "text/x-python",
   "name": "python",
   "nbconvert_exporter": "python",
   "pygments_lexer": "ipython3",
   "version": "3.9.12"
  }
 },
 "nbformat": 4,
 "nbformat_minor": 5
}
